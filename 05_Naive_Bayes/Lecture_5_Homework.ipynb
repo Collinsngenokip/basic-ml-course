{
  "nbformat": 4,
  "nbformat_minor": 0,
  "metadata": {
    "colab": {
      "provenance": []
    },
    "kernelspec": {
      "name": "python3",
      "display_name": "Python 3"
    },
    "language_info": {
      "name": "python"
    }
  },
  "cells": [
    {
      "cell_type": "markdown",
      "source": [
        "In this assignment, we will implement Bernoulli Naive Bayes and Multinomial Naive Bayes, and apply them for text classification. \\\\\n",
        "We will experiment on the 20 newsgroups text dataset. It comprises around 18000 newsgroups posts on 20 topics split in two subsets: one for training (or development) and the other one for testing (or for performance evaluation). \\\\\n",
        "First, we load the dataset from sklearn"
      ],
      "metadata": {
        "id": "h6sFU3yy9rKe"
      }
    },
    {
      "cell_type": "code",
      "execution_count": 1,
      "metadata": {
        "id": "VUJshdxZ8N7G"
      },
      "outputs": [],
      "source": [
        "from sklearn.datasets import fetch_20newsgroups\n",
        "newsgroups_train = fetch_20newsgroups(subset='train')\n",
        "newsgroups_test = fetch_20newsgroups(subset='test')"
      ]
    },
    {
      "cell_type": "markdown",
      "source": [
        "You can access to text by `data` property. For labels, their name and corresponding numeric values are stored in `target_names` and `target`. \\\\\n",
        "Let's take a look at our data"
      ],
      "metadata": {
        "id": "PXgEMdjf-drl"
      }
    },
    {
      "cell_type": "code",
      "source": [
        "len(newsgroups_train.data)"
      ],
      "metadata": {
        "colab": {
          "base_uri": "https://localhost:8080/"
        },
        "id": "Pri0JqOR-mP_",
        "outputId": "534ae31e-0bf0-49a4-97d8-45ab41f9ca4b"
      },
      "execution_count": 2,
      "outputs": [
        {
          "output_type": "execute_result",
          "data": {
            "text/plain": [
              "11314"
            ]
          },
          "metadata": {},
          "execution_count": 2
        }
      ]
    },
    {
      "cell_type": "code",
      "source": [
        "newsgroups_train.target, newsgroups_train.target_names"
      ],
      "metadata": {
        "colab": {
          "base_uri": "https://localhost:8080/"
        },
        "id": "oWzOQVje-0OI",
        "outputId": "6b5d0602-db3c-4b5c-81c7-746f1f3a42db"
      },
      "execution_count": 3,
      "outputs": [
        {
          "output_type": "execute_result",
          "data": {
            "text/plain": [
              "(array([7, 4, 4, ..., 3, 1, 8]),\n",
              " ['alt.atheism',\n",
              "  'comp.graphics',\n",
              "  'comp.os.ms-windows.misc',\n",
              "  'comp.sys.ibm.pc.hardware',\n",
              "  'comp.sys.mac.hardware',\n",
              "  'comp.windows.x',\n",
              "  'misc.forsale',\n",
              "  'rec.autos',\n",
              "  'rec.motorcycles',\n",
              "  'rec.sport.baseball',\n",
              "  'rec.sport.hockey',\n",
              "  'sci.crypt',\n",
              "  'sci.electronics',\n",
              "  'sci.med',\n",
              "  'sci.space',\n",
              "  'soc.religion.christian',\n",
              "  'talk.politics.guns',\n",
              "  'talk.politics.mideast',\n",
              "  'talk.politics.misc',\n",
              "  'talk.religion.misc'])"
            ]
          },
          "metadata": {},
          "execution_count": 3
        }
      ]
    },
    {
      "cell_type": "code",
      "source": [
        "newsgroups_train.data[0]"
      ],
      "metadata": {
        "colab": {
          "base_uri": "https://localhost:8080/",
          "height": 104
        },
        "id": "2RDyDW0N-XGU",
        "outputId": "8d40cc92-6f2e-4db5-8f52-e848459f5484"
      },
      "execution_count": null,
      "outputs": [
        {
          "output_type": "execute_result",
          "data": {
            "text/plain": [
              "\"From: lerxst@wam.umd.edu (where's my thing)\\nSubject: WHAT car is this!?\\nNntp-Posting-Host: rac3.wam.umd.edu\\nOrganization: University of Maryland, College Park\\nLines: 15\\n\\n I was wondering if anyone out there could enlighten me on this car I saw\\nthe other day. It was a 2-door sports car, looked to be from the late 60s/\\nearly 70s. It was called a Bricklin. The doors were really small. In addition,\\nthe front bumper was separate from the rest of the body. This is \\nall I know. If anyone can tellme a model name, engine specs, years\\nof production, where this car is made, history, or whatever info you\\nhave on this funky looking car, please e-mail.\\n\\nThanks,\\n- IL\\n   ---- brought to you by your neighborhood Lerxst ----\\n\\n\\n\\n\\n\""
            ],
            "application/vnd.google.colaboratory.intrinsic+json": {
              "type": "string"
            }
          },
          "metadata": {},
          "execution_count": 4
        }
      ]
    },
    {
      "cell_type": "markdown",
      "source": [
        "When applying machine learning to solve problems, designing algorithm is not the only way to optimize. We can also intervene on data, i.e. data preprocessing, feature selection, etc. In some case, this approach is even better than model optimizing. \\\\\n",
        "For this dataset, you can notice that the text have lots of redundant information, for example punctuation, title, etc. We can remove those from our data to get better performance. Here I define a function to remove all punctuation from text."
      ],
      "metadata": {
        "id": "U3AQxoDZ_hBe"
      }
    },
    {
      "cell_type": "code",
      "source": [
        "def remove_tokens(token_list, text):\n",
        "    for token in token_list:\n",
        "        text = text.replace(token, '')\n",
        "    return text"
      ],
      "metadata": {
        "id": "d1wQ6mFp-YyE"
      },
      "execution_count": 3,
      "outputs": []
    },
    {
      "cell_type": "code",
      "source": [
        "from string import punctuation\n",
        "preprocessed_text = [remove_tokens(punctuation, text) for text in newsgroups_train.data]"
      ],
      "metadata": {
        "id": "yw6KGy8pBPUr"
      },
      "execution_count": 4,
      "outputs": []
    },
    {
      "cell_type": "markdown",
      "source": [
        "**Assignment 1** : First we have to transform text into numeric feature. You have to build a matrix that counts word occurences in each documents **(0.5pt)**. For fast computing, we only select `30000` words with highest frequency. \\\\\n",
        "*Hint* You should use `sklearn.feature_extraction.text.CountVectorizer` and `max_features` argument."
      ],
      "metadata": {
        "id": "FK2T5rTQBZEY"
      }
    },
    {
      "cell_type": "code",
      "source": [
        "from sklearn.feature_extraction.text import CountVectorizer\n",
        "num_word = 30000\n",
        "vectorizer = ...\n",
        "train_data = ..."
      ],
      "metadata": {
        "id": "426ZmPR-ytRL"
      },
      "execution_count": 137,
      "outputs": []
    },
    {
      "cell_type": "markdown",
      "source": [
        "Recall that for Naive Bayes, we find label that satisfy \n",
        "$$c=\\arg\\max_{c'} p(c')\\prod p(x_i|c')$$\n",
        "**Assigment 2** : We will derive prior probabilities $p(c')$ from data by computing frequency of class. You have to compute the number of documents in each class in `class_freq` variable, and divide to the total number of documents to get prior probability in `prior_prob` variable **(1pt)**"
      ],
      "metadata": {
        "id": "MnHe2WcpDRJ_"
      }
    },
    {
      "cell_type": "code",
      "source": [
        "import numpy as np\n",
        "class_freq = ...\n",
        "prior_prob = ..."
      ],
      "metadata": {
        "id": "tyufOD_ODQra"
      },
      "execution_count": null,
      "outputs": []
    },
    {
      "cell_type": "markdown",
      "source": [
        "**Assigment 3** : In this step, we will implement Bernoulli Naive Bayes. Therefore, the conditional probability is probability of that a document with label $c$ has the word $x_i$. \\\\\n",
        "To do that, we need the number of documents which has word $x_i$ and label $c$ for every pair $(x_i,c)$. Your task is computing these values and store them in `word_label_freq` variable. It should be a numpy array for fast computing in the next step. **(0.5.pt)** \\\\\n",
        "*Hint:* Our `'train_data` features are the number of occurences of words in documents. You can convert them to binary feature that whether a word appears in a document."
      ],
      "metadata": {
        "id": "ib3LX3zVGe0L"
      }
    },
    {
      "cell_type": "code",
      "source": [
        "word_label_freq = ..."
      ],
      "metadata": {
        "id": "x5c39g3zFKX6"
      },
      "execution_count": null,
      "outputs": []
    },
    {
      "cell_type": "markdown",
      "source": [
        "**Assigment 4** : \n",
        "The conditional probability is computed by dividing the number of documents which has word $x_i$ and label $c$ to the number of documents with label $c$. However, if there is no document which has word $x_i$ and label $c$ in training data, the probability will be zero, which is undesirable. \\\\\n",
        "To handle this problem, we can apply Laplace smoothing, then conditional probability will be computed as following\n",
        "$$p(x_i=1|c) = \\frac{N_{ic} + \\alpha}{N_c +|V|\\alpha}$$\n",
        "Your task here is implementing this formula with default `alpha=0.1` and then fill in all the probability values in `cond_prob` variable. It should be a numpy array for fast computing in the next step. **(1pt)**"
      ],
      "metadata": {
        "id": "uDRlWLSdGiXu"
      }
    },
    {
      "cell_type": "code",
      "source": [
        "alpha = 0.01"
      ],
      "metadata": {
        "id": "015-PXOs2qSl"
      },
      "execution_count": 141,
      "outputs": []
    },
    {
      "cell_type": "code",
      "source": [
        "cond_prob = ..."
      ],
      "metadata": {
        "id": "cH_GMi4nFSzk"
      },
      "execution_count": null,
      "outputs": []
    },
    {
      "cell_type": "markdown",
      "source": [
        "**Assigment 5** : For test data, the conditional probabily follows Bernoulli distribution and is computed by\n",
        "$$p(x_i|c) = p(x_i=1|c)x_i + p(x_i=0|c)(1 - x_i)$$\n",
        "Then we multiply with prior probability and select the class with highest value as predicted label. For numerical stability, you should use log probability to compute. **(2pt)** \\\\\n",
        "$$c = \\arg\\max_{c'}(\\log p(c')+\\sum_{x_i\\in text}\\log p(x_i|c'))$$\n",
        "*Hint* Remember to convert test data feature to binary feature as training data.\n"
      ],
      "metadata": {
        "id": "AsBHViWqGj9U"
      }
    },
    {
      "cell_type": "code",
      "source": [
        "def find_label(data):\n",
        "    \"\"\"\n",
        "        Your code here\n",
        "    \"\"\""
      ],
      "metadata": {
        "id": "ZbLeeFp43Eg7"
      },
      "execution_count": 142,
      "outputs": []
    },
    {
      "cell_type": "markdown",
      "source": [
        "Now we can obtain labels and accuracy score of model on test data"
      ],
      "metadata": {
        "id": "epm5l9atNAMr"
      }
    },
    {
      "cell_type": "code",
      "source": [
        "preprocessed_test_text = [remove_tokens(punctuation, text) for text in newsgroups_test.data]\n",
        "test_data = vectorizer.transform(preprocessed_test_text)"
      ],
      "metadata": {
        "id": "bxBsRI6f4Jym"
      },
      "execution_count": 143,
      "outputs": []
    },
    {
      "cell_type": "code",
      "source": [
        "pred = []\n",
        "from tqdm import tqdm\n",
        "for text in tqdm(test_data):\n",
        "    pred.append(find_label(text))"
      ],
      "metadata": {
        "colab": {
          "base_uri": "https://localhost:8080/"
        },
        "id": "wNLWpQMc4a9s",
        "outputId": "a29291b8-4066-4947-d3ce-19a4e439cb6e"
      },
      "execution_count": 144,
      "outputs": [
        {
          "output_type": "stream",
          "name": "stderr",
          "text": [
            "7532it [02:17, 54.65it/s]\n"
          ]
        }
      ]
    },
    {
      "cell_type": "code",
      "source": [
        "from sklearn import metrics\n",
        "metrics.accuracy_score(pred, newsgroups_test.target)"
      ],
      "metadata": {
        "colab": {
          "base_uri": "https://localhost:8080/"
        },
        "id": "MSEKT9t-7KgT",
        "outputId": "8a16bf4b-049b-4e8b-8114-df5e4d92c5f9"
      },
      "execution_count": 145,
      "outputs": [
        {
          "output_type": "execute_result",
          "data": {
            "text/plain": [
              "0.7825278810408922"
            ]
          },
          "metadata": {},
          "execution_count": 145
        }
      ]
    },
    {
      "cell_type": "markdown",
      "source": [
        "**Assigment 6** : Next, we will implement Multinomial Naive Bayes. For this model, the conditional probability follows multinomial distribution. We have to estimate conditional probabilities from data as the frequency of words in all documents with a given class. \\\\\n",
        "First, you have to count the number of occurences of a word $x_i$ in all document with class $c$ **(0.5pt)**."
      ],
      "metadata": {
        "id": "x70hGH3RGlbI"
      }
    },
    {
      "cell_type": "code",
      "source": [
        "word_label_freq = ..."
      ],
      "metadata": {
        "id": "_ZGCBLk8FaHw"
      },
      "execution_count": 149,
      "outputs": []
    },
    {
      "cell_type": "markdown",
      "source": [
        "**Assigment 7** : Your task here is to count the total number of words in all documents of class $c$ to compute probability in next step. **(0.5)pt** \\\\\n",
        "*Hint* You can sum the number of occurences of all words in class $c$ that we obtained in last step."
      ],
      "metadata": {
        "id": "4GP4fhl_GsOQ"
      }
    },
    {
      "cell_type": "code",
      "source": [
        "num_word_in_classes = ..."
      ],
      "metadata": {
        "id": "W2yAJ49sFud0"
      },
      "execution_count": 193,
      "outputs": []
    },
    {
      "cell_type": "markdown",
      "source": [
        "**Assigment 8** : Now we can compute conditional probability for every pair $(x_i, c)$. Similar to Bernoulli Naive Bayes, we also add Laplace smoothing to avoid zero probability\n",
        "$$p(x_i=1|c) = \\frac{N_{ic} + \\alpha}{N_c +|V|\\alpha}$$\n",
        "For numerical stability, you should compute log of probablity **(1pt)**."
      ],
      "metadata": {
        "id": "9S4qCZrtGtwO"
      }
    },
    {
      "cell_type": "code",
      "source": [
        "log_cond_prob = ..."
      ],
      "metadata": {
        "id": "gUMX_iwDFwr3"
      },
      "execution_count": 192,
      "outputs": []
    },
    {
      "cell_type": "markdown",
      "source": [
        "**Assignment 9** : After getting all necessary probabilities, we can find label of new test data. For this task, you have to implement `find_label` function that compute product of prior and conditional probablities, and select the label with highest value. Finally, you can get prediction for all test data and get accuracy score **(3pt)**."
      ],
      "metadata": {
        "id": "whEfFBPC-W2H"
      }
    },
    {
      "cell_type": "code",
      "source": [
        "def find_label(data):\n",
        "    \"\"\"\n",
        "      Your code here\n",
        "    \"\"\""
      ],
      "metadata": {
        "id": "J7pylT3i_CiO"
      },
      "execution_count": 188,
      "outputs": []
    },
    {
      "cell_type": "code",
      "source": [
        "pred = []\n",
        "for text in tqdm(test_data):\n",
        "    pred.append(find_label(text))\n",
        "metrics.accuracy_score(pred, newsgroups_test.target)"
      ],
      "metadata": {
        "id": "WHolEq4mb3Jc",
        "colab": {
          "base_uri": "https://localhost:8080/"
        },
        "outputId": "82d8edce-36f8-4e39-8a88-615a32ed2870"
      },
      "execution_count": 191,
      "outputs": [
        {
          "output_type": "stream",
          "name": "stderr",
          "text": [
            "7532it [00:06, 1131.14it/s]\n"
          ]
        },
        {
          "output_type": "execute_result",
          "data": {
            "text/plain": [
              "0.8266064790228359"
            ]
          },
          "metadata": {},
          "execution_count": 191
        }
      ]
    },
    {
      "cell_type": "markdown",
      "source": [
        "**(Optional)** Try to improve performance of Naive Bayes model in this dataset. You can try everything to do this, i.e. change hyperparameters, preprocess data, ..."
      ],
      "metadata": {
        "id": "VU9JwQ85N6bv"
      }
    }
  ]
}